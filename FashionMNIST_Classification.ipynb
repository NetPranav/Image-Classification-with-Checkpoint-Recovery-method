{
 "cells": [
  {
   "cell_type": "code",
   "execution_count": 1,
   "id": "4694443c-d15e-4b39-889c-1c7142f76405",
   "metadata": {},
   "outputs": [],
   "source": [
    "import torch\n",
    "import torchvision"
   ]
  },
  {
   "cell_type": "markdown",
   "id": "f03970c6-b31d-4c54-a0a3-5425f37a5cc0",
   "metadata": {},
   "source": [
    "## Device Agnostic Code"
   ]
  },
  {
   "cell_type": "code",
   "execution_count": 2,
   "id": "25d5bf54-b952-4c19-b8c1-4f79f0b1fff5",
   "metadata": {},
   "outputs": [],
   "source": [
    "device = \"cuda\" if torch.cuda.is_available() else \"cpu\""
   ]
  },
  {
   "cell_type": "markdown",
   "id": "e65096e4-c723-4121-8e23-7607a6c66bb3",
   "metadata": {},
   "source": [
    "## Setting up Transformer and Augmentation "
   ]
  },
  {
   "cell_type": "code",
   "execution_count": 3,
   "id": "1907ed46-6d21-4c44-9779-e7c6e658f119",
   "metadata": {},
   "outputs": [],
   "source": [
    "from torchvision import transforms\n",
    "\n",
    "# Define the transformation pipeline\n",
    "transformer = transforms.Compose([\n",
    "    transforms.RandomHorizontalFlip(p=0.5),  # Randomly flip the image with 50% probability\n",
    "    transforms.ToTensor()  # Convert the image to a tensor\n",
    "])"
   ]
  },
  {
   "cell_type": "markdown",
   "id": "c2647a82-ad4a-4f94-a73f-6b6aeeae41b2",
   "metadata": {},
   "source": [
    "## Download the FashionMNIST Data"
   ]
  },
  {
   "cell_type": "code",
   "execution_count": 4,
   "id": "8970a318-9cc0-4973-9087-6a06f913f5d4",
   "metadata": {},
   "outputs": [],
   "source": [
    "from torchvision import datasets\n",
    "from torchvision.transforms import ToTensor\n",
    "train_data = torchvision.datasets.FashionMNIST(\n",
    "    root = 'data',\n",
    "    train = True,\n",
    "    download = True,\n",
    "    transform =transformer\n",
    ")\n",
    "test_data = torchvision.datasets.FashionMNIST(\n",
    "    root='data',\n",
    "    train = False,\n",
    "    download = True,\n",
    "    transform = transformer\n",
    ")"
   ]
  },
  {
   "cell_type": "markdown",
   "id": "ad1df477-fddb-4900-b47e-9dd895d2a2d7",
   "metadata": {},
   "source": [
    "## Getting instance of random Data(for easier Visualization)"
   ]
  },
  {
   "cell_type": "code",
   "execution_count": 5,
   "id": "42c0eec0-eb96-40c2-9f22-913fb022515d",
   "metadata": {},
   "outputs": [
    {
     "data": {
      "text/plain": [
       "(torch.Size([1, 28, 28]), 2)"
      ]
     },
     "execution_count": 5,
     "metadata": {},
     "output_type": "execute_result"
    }
   ],
   "source": [
    "import random\n",
    "random_data = random.randint(0,len(train_data)-1)\n",
    "\n",
    "images,label = train_data[random_data]\n",
    "images.shape,label"
   ]
  },
  {
   "cell_type": "markdown",
   "id": "aef74935-c503-4c71-b1e5-11816494fa38",
   "metadata": {},
   "source": [
    "## Converting to DataLoader"
   ]
  },
  {
   "cell_type": "code",
   "execution_count": 6,
   "id": "de23e915-2db5-45d7-a88b-d9bf3faf512c",
   "metadata": {},
   "outputs": [],
   "source": [
    "from torch.utils.data import DataLoader\n",
    "import os \n",
    "\n",
    "Batch_size = 32\n",
    "\n",
    "train_dataloader = DataLoader(batch_size=Batch_size,dataset = train_data,shuffle = False)\n",
    "test_dataloader = DataLoader(batch_size = Batch_size,dataset = test_data,shuffle = True,)"
   ]
  },
  {
   "cell_type": "markdown",
   "id": "075e513f-0215-4829-b811-bd01bee29572",
   "metadata": {},
   "source": [
    "## Getting the visulaization of the data os instance"
   ]
  },
  {
   "cell_type": "code",
   "execution_count": 7,
   "id": "6ebb3d7f-f3b3-4164-a675-456a86abf193",
   "metadata": {},
   "outputs": [
    {
     "data": {
      "text/plain": [
       "(-0.5, 27.5, 27.5, -0.5)"
      ]
     },
     "execution_count": 7,
     "metadata": {},
     "output_type": "execute_result"
    },
    {
     "data": {
      "image/png": "[encoded data removed]",
      "text/plain": [
       "<Figure size 1000x500 with 1 Axes>"
      ]
     },
     "metadata": {},
     "output_type": "display_data"
    }
   ],
   "source": [
    "import matplotlib.pyplot as plt\n",
    "\n",
    "plt.figure(figsize = (10,5))\n",
    "plt.imshow(images.squeeze())\n",
    "plt.title(f\"transformed : {train_data.classes[label]}\")\n",
    "plt.axis(\"off\")"
   ]
  },
  {
   "cell_type": "markdown",
   "id": "8f9e4cac-9562-48a0-83ba-b076dfd5e5b4",
   "metadata": {},
   "source": [
    "## Making the two Model to train the data"
   ]
  },
  {
   "cell_type": "code",
   "execution_count": 8,
   "id": "c63aef88-ca27-4eff-9cc1-f9a415f0fca4",
   "metadata": {},
   "outputs": [],
   "source": [
    "from torch import nn\n",
    "\n",
    "# simple multilayer percepetron (MLP)\n",
    "class model_linear(nn.Module):\n",
    "    def __init__(self,\n",
    "                input:int,       # input size (28*28 = 784 for FashionMNIST)\n",
    "                hidden_units_1:int,\n",
    "                hidden_units_2:int,\n",
    "                output:int):     # output size (10 classes for FashionMNIST)\n",
    "        super().__init__()\n",
    "        \n",
    "        self.flatten = nn.Flatten()  # Flatten the input image\n",
    "        self.linear_layer_1 = nn.Sequential(\n",
    "            nn.Linear(in_features=input, out_features=hidden_units_1),\n",
    "            nn.ReLU(),\n",
    "            nn.Linear(in_features=hidden_units_1, out_features=hidden_units_2)\n",
    "        )\n",
    "        self.linear_layer_2 = nn.Sequential(\n",
    "            nn.Linear(in_features=hidden_units_2, out_features=hidden_units_1),\n",
    "            nn.ReLU(),\n",
    "            nn.Linear(in_features=hidden_units_1, out_features=hidden_units_2)\n",
    "        )\n",
    "        self.linear_layer_3 = nn.Sequential(\n",
    "            nn.Linear(in_features=hidden_units_2, out_features=hidden_units_1),\n",
    "            nn.ReLU(),\n",
    "            nn.Linear(in_features=hidden_units_1, out_features=output)\n",
    "        )\n",
    "\n",
    "    def forward(self, x):\n",
    "        return self.linear_layer_3(self.linear_layer_2(self.linear_layer_1(self.flatten(x))))\n",
    "\n",
    "\n",
    "# Simple CNN\n",
    "class model_CNN(nn.Module):\n",
    "    def __init__(self,\n",
    "                input:int,\n",
    "                hidden_units:int,\n",
    "                output:int):\n",
    "        super().__init__()\n",
    "        self.conv_block_1 = nn.Sequential(\n",
    "        nn.Conv2d(in_channels=input,\n",
    "                  out_channels = hidden_units,\n",
    "                  kernel_size = 3,\n",
    "                  stride = 1,\n",
    "                  padding = 1), # values we can set ourself in our NN's are called hyperparameter\n",
    "        nn.ReLU(),\n",
    "        nn.Conv2d(in_channels = hidden_units,\n",
    "                  out_channels = hidden_units,\n",
    "                  kernel_size = 3,\n",
    "                  stride = 1,\n",
    "                  padding = 1),\n",
    "        nn.ReLU(),\n",
    "        nn.MaxPool2d(kernel_size = 2)\n",
    "        )\n",
    "        self.conv_block_2 = nn.Sequential(\n",
    "            nn.Conv2d(in_channels = hidden_units,\n",
    "                      out_channels = hidden_units,\n",
    "                      kernel_size=3,\n",
    "                      stride = 1,\n",
    "                      padding = 1),\n",
    "            nn.ReLU(),\n",
    "            nn.Conv2d(in_channels = hidden_units,\n",
    "                      out_channels = hidden_units,\n",
    "                      kernel_size=3,\n",
    "                      stride = 1,\n",
    "                      padding = 1),\n",
    "            nn.ReLU(),\n",
    "            nn.MaxPool2d(kernel_size = 2)\n",
    "        )\n",
    "        self.classifier = nn.Sequential(\n",
    "        nn.Flatten(),\n",
    "        nn.Linear(in_features=hidden_units*7*7,\n",
    "                  out_features=output)\n",
    "        )\n",
    "    def forward(self,x):\n",
    "        return self.classifier(self.conv_block_2(self.conv_block_1(x)))"
   ]
  },
  {
   "cell_type": "markdown",
   "id": "8918a1ff-e44d-40c5-b515-ce6447bc65a7",
   "metadata": {},
   "source": [
    "## Making the Instances of the models"
   ]
  },
  {
   "cell_type": "code",
   "execution_count": 9,
   "id": "7404985c-7009-48cc-a716-2c549d99e05b",
   "metadata": {},
   "outputs": [],
   "source": [
    "Linear_model = model_linear(input = 28*28,\n",
    "                           hidden_units_1 = 10,\n",
    "                           hidden_units_2 = 20,\n",
    "                           output = len(train_data.classes)).to(device)\n",
    "CNN_model = model_CNN(input= 1,\n",
    "                     hidden_units = 8,\n",
    "                     output = len(train_data.classes)).to(device)"
   ]
  },
  {
   "cell_type": "code",
   "execution_count": 10,
   "id": "45ba4f1e-c185-4423-8b60-ca185e81e822",
   "metadata": {},
   "outputs": [
    {
     "name": "stdout",
     "output_type": "stream",
     "text": [
      "10\n"
     ]
    }
   ],
   "source": [
    "print(len(train_data.classes))"
   ]
  },
  {
   "cell_type": "markdown",
   "id": "6acbde53-d5c3-4b26-8fe2-de4b144a4203",
   "metadata": {},
   "source": [
    "## Loss function Optimizer and accuracy_function"
   ]
  },
  {
   "cell_type": "code",
   "execution_count": 11,
   "id": "be46d962-4aeb-4d1a-8b3c-067b4aa5f7fd",
   "metadata": {},
   "outputs": [],
   "source": [
    "loss_fn = nn.CrossEntropyLoss()\n",
    "model = CNN_model\n",
    "optimizer_Linear = torch.optim.SGD(model.parameters(),lr=0.01)\n",
    "optimizer_CNN = torch.optim.Adam(model.parameters(), lr=0.001)\n",
    "def accuracy_fn(y_pred,y_true):\n",
    "  correct = torch.eq(y_pred,y_true).sum().item()\n",
    "  acc = (correct/len(y_true))*100\n",
    "  return acc"
   ]
  },
  {
   "cell_type": "markdown",
   "id": "aa53228b-b508-4a5a-b3ed-58b1c1b87126",
   "metadata": {},
   "source": [
    "## Fucntionizing the training testing and evaulating"
   ]
  },
  {
   "cell_type": "code",
   "execution_count": 12,
   "id": "c9085bc9-c2b0-4d3f-8e20-1307966e61c9",
   "metadata": {},
   "outputs": [],
   "source": [
    "device = \"cuda\" \n",
    "def train_model(model: torch.nn.Module,\n",
    "                data_loader : torch.utils.data.DataLoader,\n",
    "                loss_fn: torch.nn.Module,\n",
    "                optimizer: torch.optim.Optimizer,\n",
    "                accuracy_fn,\n",
    "                device : torch.device = device\n",
    "                ):\n",
    "  train_loss,train_acc = 0,0\n",
    "  model.train()\n",
    "\n",
    "  for batch,(X,y) in enumerate(data_loader):\n",
    "    X,y = X.to(device),y.to(device)\n",
    "    y_pred = model(X)\n",
    "\n",
    "    loss = loss_fn(y_pred,y)\n",
    "    train_loss += loss\n",
    "    train_acc += accuracy_fn(y_true = y,y_pred = y_pred.argmax(dim=1))\n",
    "\n",
    "    optimizer.zero_grad()\n",
    "    loss.backward()\n",
    "    optimizer.step()\n",
    "\n",
    "  train_loss /= len(data_loader)\n",
    "  train_acc /= len(data_loader)\n",
    "  print(f\"train_loss: {train_loss:.5f} | train_acc: {train_acc:.2f}%\")\n",
    "\n",
    "def testing_model(model: torch.nn.Module,\n",
    "                  data_loader: torch.utils.data.DataLoader,\n",
    "                  loss_fn: torch.nn.Module,\n",
    "                  accuracy_fn,\n",
    "                  device : torch.device = device):\n",
    "  test_loss,test_acc = 0,0\n",
    "  model.eval()\n",
    "  with torch.inference_mode():\n",
    "    for X_test,y_test in data_loader:\n",
    "      X_test,y_test = X_test.to(device),y_test.to(device)\n",
    "      test_pred = model(X_test)\n",
    "      test_loss += loss_fn(test_pred,y_test)\n",
    "      test_acc += accuracy_fn(y_true = y_test,y_pred = test_pred.argmax(dim=1))\n",
    "    test_loss /= len(data_loader)\n",
    "    test_acc /= len(data_loader)\n",
    "    print(f\"test_loss: {test_loss:.5f} | test_acc: {test_acc:.2f}%\")\n",
    "\n",
    "def eval_model(model: torch.nn.Module,\n",
    "               data_loader : torch.utils.data.DataLoader,\n",
    "               loss: torch.nn.Module,\n",
    "               accuracy_fn,\n",
    "               device: torch.device = device):\n",
    "  loss,acc = 0,0\n",
    "  model.eval()\n",
    "  with torch.inference_mode():\n",
    "    for X,y in tqdm(data_loader):\n",
    "      X,y = X.to(device),y.to(device)\n",
    "      y_pred = model(X)\n",
    "\n",
    "      loss = loss_fn(y_pred,y)\n",
    "      acc += accuracy_fn(y_true = y,y_pred = y_pred.argmax(dim= 1))\n",
    "\n",
    "    loss /= len(data_loader)\n",
    "    acc /= len(data_loader)\n",
    "\n",
    "  return {\"model name\": model.__class__.__name__,\n",
    "          \"loss\": loss.item(),\n",
    "          \"acc\": acc}\n",
    "\n",
    "def Train_time(start:float,\n",
    "               end:float,\n",
    "               device: torch.device = None):\n",
    "  total_time = end-start\n",
    "  print(f\"Train time on {device} is {total_time:.3f} seconds\")\n",
    "  return total_time"
   ]
  },
  {
   "cell_type": "code",
   "execution_count": null,
   "id": "a4daa9a0-4f68-4a16-bbf9-7a654685626a",
   "metadata": {},
   "outputs": [],
   "source": []
  },
  {
   "cell_type": "code",
   "execution_count": 13,
   "id": "d3e0b875-6e84-49dd-a772-750bed3571bc",
   "metadata": {},
   "outputs": [],
   "source": [
    "from pathlib import Path\n",
    "\n",
    "MODEL_PATH= Path(\"models\")\n",
    "MODEL_PATH.mkdir(parents=True,exist_ok=True)\n",
    "\n",
    "# create model save path\n"
   ]
  },
  {
   "cell_type": "markdown",
   "id": "5a6b4731-d0f7-4e5d-bb19-d755297cb74d",
   "metadata": {},
   "source": [
    "## Training and Testing Phase of Linear model "
   ]
  },
  {
   "cell_type": "code",
   "execution_count": 14,
   "id": "4f29d553-f1c0-4e0f-bace-855797520617",
   "metadata": {},
   "outputs": [
    {
     "name": "stderr",
     "output_type": "stream",
     "text": [
      "  0%|                                                                                            | 0/5 [00:00<?, ?it/s]"
     ]
    },
    {
     "name": "stdout",
     "output_type": "stream",
     "text": [
      "Epoch: 0 ...\n",
      "train_loss: 2.31151 | train_acc: 10.02%\n"
     ]
    },
    {
     "name": "stderr",
     "output_type": "stream",
     "text": [
      " 20%|████████████████▊                                                                   | 1/5 [00:13<00:52, 13.12s/it]"
     ]
    },
    {
     "name": "stdout",
     "output_type": "stream",
     "text": [
      "test_loss: 2.31151 | test_acc: 10.03%\n",
      "Train time on cuda is 13.119 seconds\n",
      "Epoch: 1 ...\n",
      "train_loss: 2.31151 | train_acc: 10.03%\n"
     ]
    },
    {
     "name": "stderr",
     "output_type": "stream",
     "text": [
      " 40%|█████████████████████████████████▌                                                  | 2/5 [00:29<00:44, 14.82s/it]"
     ]
    },
    {
     "name": "stdout",
     "output_type": "stream",
     "text": [
      "test_loss: 2.31148 | test_acc: 10.05%\n",
      "Train time on cuda is 29.130 seconds\n",
      "Epoch: 2 ...\n",
      "train_loss: 2.31151 | train_acc: 10.02%\n"
     ]
    },
    {
     "name": "stderr",
     "output_type": "stream",
     "text": [
      " 60%|██████████████████████████████████████████████████▍                                 | 3/5 [00:44<00:30, 15.21s/it]"
     ]
    },
    {
     "name": "stdout",
     "output_type": "stream",
     "text": [
      "test_loss: 2.31151 | test_acc: 10.04%\n",
      "Train time on cuda is 44.798 seconds\n",
      "Epoch: 3 ...\n",
      "train_loss: 2.31152 | train_acc: 10.03%\n"
     ]
    },
    {
     "name": "stderr",
     "output_type": "stream",
     "text": [
      " 80%|███████████████████████████████████████████████████████████████████▏                | 4/5 [01:01<00:15, 15.77s/it]"
     ]
    },
    {
     "name": "stdout",
     "output_type": "stream",
     "text": [
      "test_loss: 2.31155 | test_acc: 10.04%\n",
      "Train time on cuda is 61.444 seconds\n",
      "Epoch: 4 ...\n",
      "train_loss: 2.31152 | train_acc: 10.03%\n"
     ]
    },
    {
     "name": "stderr",
     "output_type": "stream",
     "text": [
      "100%|████████████████████████████████████████████████████████████████████████████████████| 5/5 [01:16<00:00, 15.39s/it]"
     ]
    },
    {
     "name": "stdout",
     "output_type": "stream",
     "text": [
      "test_loss: 2.31156 | test_acc: 10.00%\n",
      "Train time on cuda is 76.961 seconds\n"
     ]
    },
    {
     "name": "stderr",
     "output_type": "stream",
     "text": [
      "\n"
     ]
    }
   ],
   "source": [
    "from tqdm import tqdm\n",
    "\n",
    "from timeit import default_timer as timer\n",
    "train_time_start_model =timer()\n",
    "epochs = 5\n",
    "for epoch in tqdm(range(epochs)):\n",
    "  print(f\"Epoch: {epoch} ...\")\n",
    "  train_model(model = Linear_model,\n",
    "              data_loader = train_dataloader,\n",
    "              loss_fn = loss_fn,\n",
    "              optimizer = optimizer_Linear,\n",
    "              accuracy_fn = accuracy_fn,\n",
    "              device = device)\n",
    "  testing_model(model = Linear_model,\n",
    "                data_loader = test_dataloader,\n",
    "                loss_fn = loss_fn,\n",
    "                accuracy_fn = accuracy_fn,\n",
    "                device = device)\n",
    "  train_time_end_model = timer()\n",
    "  Train_time(start = train_time_start_model,\n",
    "             end = train_time_end_model,\n",
    "             device = device)"
   ]
  },
  {
   "cell_type": "markdown",
   "id": "62e59d14-e829-4130-97b3-458d22b7429e",
   "metadata": {},
   "source": [
    "## Training and Testing Phase of CNN model "
   ]
  },
  {
   "cell_type": "code",
   "execution_count": null,
   "id": "12d39ee7-eab5-432a-8472-6cde61dcbf16",
   "metadata": {},
   "outputs": [
    {
     "name": "stderr",
     "output_type": "stream",
     "text": [
      "  0%|                                                                                            | 0/5 [00:00<?, ?it/s]\n",
      "  0%|                                                                                           | 0/20 [00:00<?, ?it/s]\u001b[A"
     ]
    },
    {
     "name": "stdout",
     "output_type": "stream",
     "text": [
      "Epoch: 0 ...\n",
      "train_loss: 0.58402 | train_acc: 79.41%\n"
     ]
    },
    {
     "name": "stderr",
     "output_type": "stream",
     "text": [
      "\n",
      "  5%|████▏                                                                              | 1/20 [00:13<04:20, 13.72s/it]\u001b[A"
     ]
    },
    {
     "name": "stdout",
     "output_type": "stream",
     "text": [
      "test_loss: 0.45635 | test_acc: 83.60%\n",
      "Epoch: 1 ...\n",
      "train_loss: 0.38946 | train_acc: 86.22%\n"
     ]
    },
    {
     "name": "stderr",
     "output_type": "stream",
     "text": [
      "\n",
      " 10%|████████▎                                                                          | 2/20 [00:27<04:09, 13.88s/it]\u001b[A"
     ]
    },
    {
     "name": "stdout",
     "output_type": "stream",
     "text": [
      "test_loss: 0.38841 | test_acc: 86.26%\n",
      "Epoch: 2 ...\n",
      "train_loss: 0.34284 | train_acc: 87.78%\n"
     ]
    },
    {
     "name": "stderr",
     "output_type": "stream",
     "text": [
      "\n",
      " 15%|████████████▍                                                                      | 3/20 [00:40<03:48, 13.44s/it]\u001b[A"
     ]
    },
    {
     "name": "stdout",
     "output_type": "stream",
     "text": [
      "test_loss: 0.35389 | test_acc: 87.52%\n",
      "Epoch: 3 ...\n",
      "train_loss: 0.31872 | train_acc: 88.55%\n"
     ]
    },
    {
     "name": "stderr",
     "output_type": "stream",
     "text": [
      "\n",
      " 20%|████████████████▌                                                                  | 4/20 [00:54<03:38, 13.64s/it]\u001b[A"
     ]
    },
    {
     "name": "stdout",
     "output_type": "stream",
     "text": [
      "test_loss: 0.34066 | test_acc: 88.02%\n",
      "Epoch: 4 ...\n",
      "train_loss: 0.30092 | train_acc: 89.26%\n"
     ]
    },
    {
     "name": "stderr",
     "output_type": "stream",
     "text": [
      "\n",
      " 25%|████████████████████▊                                                              | 5/20 [01:08<03:25, 13.68s/it]\u001b[A"
     ]
    },
    {
     "name": "stdout",
     "output_type": "stream",
     "text": [
      "test_loss: 0.32063 | test_acc: 88.73%\n",
      "Epoch: 5 ...\n",
      "train_loss: 0.29055 | train_acc: 89.70%\n"
     ]
    },
    {
     "name": "stderr",
     "output_type": "stream",
     "text": [
      "\n",
      " 30%|████████████████████████▉                                                          | 6/20 [01:22<03:12, 13.78s/it]\u001b[A"
     ]
    },
    {
     "name": "stdout",
     "output_type": "stream",
     "text": [
      "test_loss: 0.31180 | test_acc: 88.87%\n",
      "Epoch: 6 ...\n",
      "train_loss: 0.28090 | train_acc: 89.88%\n"
     ]
    },
    {
     "name": "stderr",
     "output_type": "stream",
     "text": [
      "\n",
      " 35%|█████████████████████████████                                                      | 7/20 [01:35<02:56, 13.59s/it]\u001b[A"
     ]
    },
    {
     "name": "stdout",
     "output_type": "stream",
     "text": [
      "test_loss: 0.31067 | test_acc: 89.23%\n",
      "Epoch: 7 ...\n",
      "train_loss: 0.27419 | train_acc: 90.24%\n"
     ]
    },
    {
     "name": "stderr",
     "output_type": "stream",
     "text": [
      "\n",
      " 40%|█████████████████████████████████▏                                                 | 8/20 [01:49<02:44, 13.67s/it]\u001b[A"
     ]
    },
    {
     "name": "stdout",
     "output_type": "stream",
     "text": [
      "test_loss: 0.30917 | test_acc: 89.45%\n",
      "Epoch: 8 ...\n",
      "train_loss: 0.26784 | train_acc: 90.33%\n"
     ]
    },
    {
     "name": "stderr",
     "output_type": "stream",
     "text": [
      "\n",
      " 45%|█████████████████████████████████████▎                                             | 9/20 [02:02<02:27, 13.45s/it]\u001b[A"
     ]
    },
    {
     "name": "stdout",
     "output_type": "stream",
     "text": [
      "test_loss: 0.30234 | test_acc: 89.31%\n",
      "Epoch: 9 ...\n",
      "train_loss: 0.26165 | train_acc: 90.60%\n"
     ]
    },
    {
     "name": "stderr",
     "output_type": "stream",
     "text": [
      "\n",
      " 50%|█████████████████████████████████████████                                         | 10/20 [02:15<02:14, 13.47s/it]\u001b[A"
     ]
    },
    {
     "name": "stdout",
     "output_type": "stream",
     "text": [
      "test_loss: 0.29824 | test_acc: 89.21%\n",
      "Epoch: 10 ...\n",
      "train_loss: 0.25637 | train_acc: 90.71%\n"
     ]
    },
    {
     "name": "stderr",
     "output_type": "stream",
     "text": [
      "\n",
      " 55%|█████████████████████████████████████████████                                     | 11/20 [02:28<01:59, 13.23s/it]\u001b[A"
     ]
    },
    {
     "name": "stdout",
     "output_type": "stream",
     "text": [
      "test_loss: 0.29200 | test_acc: 89.64%\n",
      "Epoch: 11 ...\n",
      "train_loss: 0.25229 | train_acc: 90.91%\n"
     ]
    },
    {
     "name": "stderr",
     "output_type": "stream",
     "text": [
      "\n",
      " 60%|█████████████████████████████████████████████████▏                                | 12/20 [02:41<01:45, 13.20s/it]\u001b[A"
     ]
    },
    {
     "name": "stdout",
     "output_type": "stream",
     "text": [
      "test_loss: 0.29235 | test_acc: 89.39%\n",
      "Epoch: 12 ...\n",
      "train_loss: 0.24940 | train_acc: 91.00%\n"
     ]
    },
    {
     "name": "stderr",
     "output_type": "stream",
     "text": [
      "\n",
      " 65%|█████████████████████████████████████████████████████▎                            | 13/20 [02:54<01:31, 13.12s/it]\u001b[A"
     ]
    },
    {
     "name": "stdout",
     "output_type": "stream",
     "text": [
      "test_loss: 0.28439 | test_acc: 90.01%\n",
      "Epoch: 13 ...\n",
      "train_loss: 0.24688 | train_acc: 91.07%\n"
     ]
    },
    {
     "name": "stderr",
     "output_type": "stream",
     "text": [
      "\n",
      " 70%|█████████████████████████████████████████████████████████▍                        | 14/20 [03:07<01:18, 13.09s/it]\u001b[A"
     ]
    },
    {
     "name": "stdout",
     "output_type": "stream",
     "text": [
      "test_loss: 0.28330 | test_acc: 89.89%\n",
      "Epoch: 14 ...\n",
      "train_loss: 0.24258 | train_acc: 91.24%\n"
     ]
    },
    {
     "name": "stderr",
     "output_type": "stream",
     "text": [
      "\n",
      " 75%|█████████████████████████████████████████████████████████████▌                    | 15/20 [03:20<01:05, 13.08s/it]\u001b[A"
     ]
    },
    {
     "name": "stdout",
     "output_type": "stream",
     "text": [
      "test_loss: 0.28128 | test_acc: 90.36%\n",
      "Epoch: 15 ...\n",
      "train_loss: 0.24027 | train_acc: 91.30%\n"
     ]
    },
    {
     "name": "stderr",
     "output_type": "stream",
     "text": [
      "\n",
      " 80%|█████████████████████████████████████████████████████████████████▌                | 16/20 [03:33<00:52, 13.09s/it]\u001b[A"
     ]
    },
    {
     "name": "stdout",
     "output_type": "stream",
     "text": [
      "test_loss: 0.28176 | test_acc: 90.13%\n",
      "Epoch: 16 ...\n",
      "train_loss: 0.23875 | train_acc: 91.39%\n"
     ]
    },
    {
     "name": "stderr",
     "output_type": "stream",
     "text": [
      "\n",
      " 85%|█████████████████████████████████████████████████████████████████████▋            | 17/20 [03:47<00:40, 13.38s/it]\u001b[A"
     ]
    },
    {
     "name": "stdout",
     "output_type": "stream",
     "text": [
      "test_loss: 0.27903 | test_acc: 90.13%\n",
      "Epoch: 17 ...\n",
      "train_loss: 0.23602 | train_acc: 91.45%\n"
     ]
    },
    {
     "name": "stderr",
     "output_type": "stream",
     "text": [
      "\n",
      " 90%|█████████████████████████████████████████████████████████████████████████▊        | 18/20 [04:02<00:27, 13.78s/it]\u001b[A"
     ]
    },
    {
     "name": "stdout",
     "output_type": "stream",
     "text": [
      "test_loss: 0.27884 | test_acc: 90.15%\n",
      "Epoch: 18 ...\n",
      "train_loss: 0.23479 | train_acc: 91.45%\n"
     ]
    },
    {
     "name": "stderr",
     "output_type": "stream",
     "text": [
      "\n",
      " 95%|█████████████████████████████████████████████████████████████████████████████▉    | 19/20 [04:18<00:14, 14.43s/it]\u001b[A"
     ]
    },
    {
     "name": "stdout",
     "output_type": "stream",
     "text": [
      "test_loss: 0.27695 | test_acc: 90.43%\n",
      "Epoch: 19 ...\n",
      "train_loss: 0.23224 | train_acc: 91.62%\n"
     ]
    },
    {
     "name": "stderr",
     "output_type": "stream",
     "text": [
      "\n",
      "100%|██████████████████████████████████████████████████████████████████████████████████| 20/20 [04:33<00:00, 13.70s/it]\u001b[A\n",
      " 20%|████████████████▌                                                                  | 1/5 [04:34<18:16, 274.01s/it]"
     ]
    },
    {
     "name": "stdout",
     "output_type": "stream",
     "text": [
      "test_loss: 0.28040 | test_acc: 90.12%\n"
     ]
    },
    {
     "name": "stderr",
     "output_type": "stream",
     "text": [
      "\n",
      "  0%|                                                                                           | 0/20 [00:00<?, ?it/s]\u001b[A"
     ]
    },
    {
     "name": "stdout",
     "output_type": "stream",
     "text": [
      "Epoch: 0 ...\n",
      "train_loss: 0.23023 | train_acc: 91.64%\n"
     ]
    },
    {
     "name": "stderr",
     "output_type": "stream",
     "text": [
      "\n",
      "  5%|████▏                                                                              | 1/20 [00:15<05:03, 15.98s/it]\u001b[A"
     ]
    },
    {
     "name": "stdout",
     "output_type": "stream",
     "text": [
      "test_loss: 0.27684 | test_acc: 90.29%\n",
      "Epoch: 1 ...\n",
      "train_loss: 0.22923 | train_acc: 91.75%\n"
     ]
    },
    {
     "name": "stderr",
     "output_type": "stream",
     "text": [
      "\n",
      " 10%|████████▎                                                                          | 2/20 [00:29<04:20, 14.46s/it]\u001b[A"
     ]
    },
    {
     "name": "stdout",
     "output_type": "stream",
     "text": [
      "test_loss: 0.27879 | test_acc: 90.14%\n",
      "Epoch: 2 ...\n",
      "train_loss: 0.22661 | train_acc: 91.86%\n"
     ]
    },
    {
     "name": "stderr",
     "output_type": "stream",
     "text": [
      "\n",
      " 15%|████████████▍                                                                      | 3/20 [00:42<03:56, 13.91s/it]\u001b[A"
     ]
    },
    {
     "name": "stdout",
     "output_type": "stream",
     "text": [
      "test_loss: 0.27073 | test_acc: 90.60%\n",
      "Epoch: 3 ...\n",
      "train_loss: 0.22792 | train_acc: 91.72%\n"
     ]
    },
    {
     "name": "stderr",
     "output_type": "stream",
     "text": [
      "\n",
      " 20%|████████████████▌                                                                  | 4/20 [00:55<03:38, 13.64s/it]\u001b[A"
     ]
    },
    {
     "name": "stdout",
     "output_type": "stream",
     "text": [
      "test_loss: 0.27465 | test_acc: 90.22%\n",
      "Epoch: 4 ...\n",
      "train_loss: 0.22398 | train_acc: 92.03%\n"
     ]
    },
    {
     "name": "stderr",
     "output_type": "stream",
     "text": [
      "\n",
      " 25%|████████████████████▊                                                              | 5/20 [01:09<03:22, 13.47s/it]\u001b[A"
     ]
    },
    {
     "name": "stdout",
     "output_type": "stream",
     "text": [
      "test_loss: 0.27060 | test_acc: 90.74%\n",
      "Epoch: 5 ...\n",
      "train_loss: 0.22457 | train_acc: 91.83%\n"
     ]
    },
    {
     "name": "stderr",
     "output_type": "stream",
     "text": [
      "\n",
      " 30%|████████████████████████▉                                                          | 6/20 [01:23<03:14, 13.88s/it]\u001b[A"
     ]
    },
    {
     "name": "stdout",
     "output_type": "stream",
     "text": [
      "test_loss: 0.27063 | test_acc: 90.67%\n",
      "Epoch: 6 ...\n",
      "train_loss: 0.22184 | train_acc: 91.97%\n"
     ]
    },
    {
     "name": "stderr",
     "output_type": "stream",
     "text": [
      "\n",
      " 35%|█████████████████████████████                                                      | 7/20 [01:38<03:04, 14.20s/it]\u001b[A"
     ]
    },
    {
     "name": "stdout",
     "output_type": "stream",
     "text": [
      "test_loss: 0.26884 | test_acc: 90.48%\n",
      "Epoch: 7 ...\n",
      "train_loss: 0.22160 | train_acc: 91.94%\n"
     ]
    },
    {
     "name": "stderr",
     "output_type": "stream",
     "text": [
      "\n",
      " 40%|█████████████████████████████████▏                                                 | 8/20 [01:53<02:52, 14.38s/it]\u001b[A"
     ]
    },
    {
     "name": "stdout",
     "output_type": "stream",
     "text": [
      "test_loss: 0.27071 | test_acc: 90.73%\n",
      "Epoch: 8 ...\n",
      "train_loss: 0.22115 | train_acc: 91.97%\n"
     ]
    },
    {
     "name": "stderr",
     "output_type": "stream",
     "text": [
      "\n",
      " 45%|█████████████████████████████████████▎                                             | 9/20 [02:07<02:38, 14.38s/it]\u001b[A"
     ]
    },
    {
     "name": "stdout",
     "output_type": "stream",
     "text": [
      "test_loss: 0.27388 | test_acc: 90.31%\n",
      "Epoch: 9 ...\n",
      "train_loss: 0.21943 | train_acc: 92.00%\n"
     ]
    },
    {
     "name": "stderr",
     "output_type": "stream",
     "text": [
      "\n",
      " 50%|█████████████████████████████████████████                                         | 10/20 [02:21<02:23, 14.34s/it]\u001b[A"
     ]
    },
    {
     "name": "stdout",
     "output_type": "stream",
     "text": [
      "test_loss: 0.27080 | test_acc: 90.60%\n",
      "Epoch: 10 ...\n",
      "train_loss: 0.21829 | train_acc: 92.10%\n"
     ]
    },
    {
     "name": "stderr",
     "output_type": "stream",
     "text": [
      "\n",
      " 55%|█████████████████████████████████████████████                                     | 11/20 [02:36<02:09, 14.41s/it]\u001b[A"
     ]
    },
    {
     "name": "stdout",
     "output_type": "stream",
     "text": [
      "test_loss: 0.27190 | test_acc: 90.32%\n",
      "Epoch: 11 ...\n",
      "train_loss: 0.21777 | train_acc: 92.13%\n"
     ]
    },
    {
     "name": "stderr",
     "output_type": "stream",
     "text": [
      "\n",
      " 60%|█████████████████████████████████████████████████▏                                | 12/20 [02:52<01:58, 14.78s/it]\u001b[A"
     ]
    },
    {
     "name": "stdout",
     "output_type": "stream",
     "text": [
      "test_loss: 0.26979 | test_acc: 90.37%\n",
      "Epoch: 12 ...\n",
      "train_loss: 0.21804 | train_acc: 92.06%\n"
     ]
    },
    {
     "name": "stderr",
     "output_type": "stream",
     "text": [
      "\n",
      " 65%|█████████████████████████████████████████████████████▎                            | 13/20 [03:07<01:45, 15.08s/it]\u001b[A"
     ]
    },
    {
     "name": "stdout",
     "output_type": "stream",
     "text": [
      "test_loss: 0.27869 | test_acc: 90.44%\n",
      "Epoch: 13 ...\n",
      "train_loss: 0.21919 | train_acc: 92.03%\n"
     ]
    },
    {
     "name": "stderr",
     "output_type": "stream",
     "text": [
      "\n",
      " 70%|█████████████████████████████████████████████████████████▍                        | 14/20 [03:23<01:31, 15.33s/it]\u001b[A"
     ]
    },
    {
     "name": "stdout",
     "output_type": "stream",
     "text": [
      "test_loss: 0.26575 | test_acc: 90.53%\n",
      "Epoch: 14 ...\n",
      "train_loss: 0.21692 | train_acc: 92.07%\n"
     ]
    },
    {
     "name": "stderr",
     "output_type": "stream",
     "text": [
      "\n",
      " 75%|█████████████████████████████████████████████████████████████▌                    | 15/20 [03:38<01:15, 15.09s/it]\u001b[A"
     ]
    },
    {
     "name": "stdout",
     "output_type": "stream",
     "text": [
      "test_loss: 0.26477 | test_acc: 90.76%\n",
      "Epoch: 15 ...\n",
      "train_loss: 0.21506 | train_acc: 92.20%\n"
     ]
    },
    {
     "name": "stderr",
     "output_type": "stream",
     "text": [
      "\n",
      " 80%|█████████████████████████████████████████████████████████████████▌                | 16/20 [03:52<00:59, 14.82s/it]\u001b[A"
     ]
    },
    {
     "name": "stdout",
     "output_type": "stream",
     "text": [
      "test_loss: 0.27060 | test_acc: 90.33%\n",
      "Epoch: 16 ...\n",
      "train_loss: 0.21504 | train_acc: 92.20%\n"
     ]
    },
    {
     "name": "stderr",
     "output_type": "stream",
     "text": [
      "\n",
      " 85%|█████████████████████████████████████████████████████████████████████▋            | 17/20 [04:05<00:42, 14.15s/it]\u001b[A"
     ]
    },
    {
     "name": "stdout",
     "output_type": "stream",
     "text": [
      "test_loss: 0.26551 | test_acc: 90.40%\n",
      "Epoch: 17 ...\n",
      "train_loss: 0.21541 | train_acc: 92.18%\n"
     ]
    },
    {
     "name": "stderr",
     "output_type": "stream",
     "text": [
      "\n",
      " 90%|█████████████████████████████████████████████████████████████████████████▊        | 18/20 [04:18<00:27, 13.86s/it]\u001b[A"
     ]
    },
    {
     "name": "stdout",
     "output_type": "stream",
     "text": [
      "test_loss: 0.26930 | test_acc: 90.44%\n",
      "Epoch: 18 ...\n",
      "train_loss: 0.21347 | train_acc: 92.21%\n"
     ]
    },
    {
     "name": "stderr",
     "output_type": "stream",
     "text": [
      "\n",
      " 95%|█████████████████████████████████████████████████████████████████████████████▉    | 19/20 [04:31<00:13, 13.53s/it]\u001b[A"
     ]
    },
    {
     "name": "stdout",
     "output_type": "stream",
     "text": [
      "test_loss: 0.26730 | test_acc: 90.70%\n",
      "Epoch: 19 ...\n",
      "train_loss: 0.21157 | train_acc: 92.30%\n"
     ]
    },
    {
     "name": "stderr",
     "output_type": "stream",
     "text": [
      "\n",
      "100%|██████████████████████████████████████████████████████████████████████████████████| 20/20 [04:44<00:00, 14.22s/it]\u001b[A\n",
      " 40%|█████████████████████████████████▏                                                 | 2/5 [09:18<14:00, 280.20s/it]"
     ]
    },
    {
     "name": "stdout",
     "output_type": "stream",
     "text": [
      "test_loss: 0.26570 | test_acc: 90.63%\n"
     ]
    },
    {
     "name": "stderr",
     "output_type": "stream",
     "text": [
      "\n",
      "  0%|                                                                                           | 0/20 [00:00<?, ?it/s]\u001b[A"
     ]
    },
    {
     "name": "stdout",
     "output_type": "stream",
     "text": [
      "Epoch: 0 ...\n",
      "train_loss: 0.21336 | train_acc: 92.25%\n"
     ]
    },
    {
     "name": "stderr",
     "output_type": "stream",
     "text": [
      "\n",
      "  5%|████▏                                                                              | 1/20 [00:13<04:10, 13.20s/it]\u001b[A"
     ]
    },
    {
     "name": "stdout",
     "output_type": "stream",
     "text": [
      "test_loss: 0.26671 | test_acc: 90.69%\n",
      "Epoch: 1 ...\n",
      "train_loss: 0.21054 | train_acc: 92.39%\n"
     ]
    },
    {
     "name": "stderr",
     "output_type": "stream",
     "text": [
      "\n",
      " 10%|████████▎                                                                          | 2/20 [00:26<03:58, 13.25s/it]\u001b[A"
     ]
    },
    {
     "name": "stdout",
     "output_type": "stream",
     "text": [
      "test_loss: 0.27093 | test_acc: 90.25%\n",
      "Epoch: 2 ...\n",
      "train_loss: 0.21005 | train_acc: 92.34%\n"
     ]
    },
    {
     "name": "stderr",
     "output_type": "stream",
     "text": [
      "\n",
      " 15%|████████████▍                                                                      | 3/20 [00:39<03:46, 13.33s/it]\u001b[A"
     ]
    },
    {
     "name": "stdout",
     "output_type": "stream",
     "text": [
      "test_loss: 0.26933 | test_acc: 90.57%\n",
      "Epoch: 3 ...\n",
      "train_loss: 0.21080 | train_acc: 92.35%\n"
     ]
    },
    {
     "name": "stderr",
     "output_type": "stream",
     "text": [
      "\n",
      " 20%|████████████████▌                                                                  | 4/20 [00:53<03:33, 13.32s/it]\u001b[A"
     ]
    },
    {
     "name": "stdout",
     "output_type": "stream",
     "text": [
      "test_loss: 0.27441 | test_acc: 90.79%\n",
      "Epoch: 4 ...\n",
      "train_loss: 0.21146 | train_acc: 92.27%\n"
     ]
    },
    {
     "name": "stderr",
     "output_type": "stream",
     "text": [
      "\n",
      " 25%|████████████████████▊                                                              | 5/20 [01:07<03:24, 13.61s/it]\u001b[A"
     ]
    },
    {
     "name": "stdout",
     "output_type": "stream",
     "text": [
      "test_loss: 0.26620 | test_acc: 90.77%\n",
      "Epoch: 5 ...\n",
      "train_loss: 0.21010 | train_acc: 92.38%\n"
     ]
    },
    {
     "name": "stderr",
     "output_type": "stream",
     "text": [
      "\n",
      " 30%|████████████████████████▉                                                          | 6/20 [01:20<03:09, 13.52s/it]\u001b[A"
     ]
    },
    {
     "name": "stdout",
     "output_type": "stream",
     "text": [
      "test_loss: 0.26454 | test_acc: 90.93%\n",
      "Epoch: 6 ...\n",
      "train_loss: 0.20891 | train_acc: 92.34%\n"
     ]
    },
    {
     "name": "stderr",
     "output_type": "stream",
     "text": [
      "\n",
      " 35%|█████████████████████████████                                                      | 7/20 [01:34<02:56, 13.56s/it]\u001b[A"
     ]
    },
    {
     "name": "stdout",
     "output_type": "stream",
     "text": [
      "test_loss: 0.26773 | test_acc: 90.66%\n",
      "Epoch: 7 ...\n",
      "train_loss: 0.20952 | train_acc: 92.44%\n"
     ]
    },
    {
     "name": "stderr",
     "output_type": "stream",
     "text": [
      "\n",
      " 40%|█████████████████████████████████▏                                                 | 8/20 [01:47<02:39, 13.31s/it]\u001b[A"
     ]
    },
    {
     "name": "stdout",
     "output_type": "stream",
     "text": [
      "test_loss: 0.26756 | test_acc: 90.57%\n",
      "Epoch: 8 ...\n",
      "train_loss: 0.20706 | train_acc: 92.49%\n"
     ]
    },
    {
     "name": "stderr",
     "output_type": "stream",
     "text": [
      "\n",
      " 45%|█████████████████████████████████████▎                                             | 9/20 [02:00<02:25, 13.25s/it]\u001b[A"
     ]
    },
    {
     "name": "stdout",
     "output_type": "stream",
     "text": [
      "test_loss: 0.27147 | test_acc: 90.73%\n",
      "Epoch: 9 ...\n",
      "train_loss: 0.20939 | train_acc: 92.50%\n"
     ]
    },
    {
     "name": "stderr",
     "output_type": "stream",
     "text": [
      "\n",
      " 50%|█████████████████████████████████████████                                         | 10/20 [02:13<02:13, 13.38s/it]\u001b[A"
     ]
    },
    {
     "name": "stdout",
     "output_type": "stream",
     "text": [
      "test_loss: 0.27175 | test_acc: 90.75%\n",
      "Epoch: 10 ...\n",
      "train_loss: 0.20722 | train_acc: 92.47%\n"
     ]
    },
    {
     "name": "stderr",
     "output_type": "stream",
     "text": [
      "\n",
      " 55%|█████████████████████████████████████████████                                     | 11/20 [02:27<02:00, 13.42s/it]\u001b[A"
     ]
    },
    {
     "name": "stdout",
     "output_type": "stream",
     "text": [
      "test_loss: 0.26811 | test_acc: 90.74%\n",
      "Epoch: 11 ...\n",
      "train_loss: 0.20580 | train_acc: 92.50%\n"
     ]
    },
    {
     "name": "stderr",
     "output_type": "stream",
     "text": [
      "\n",
      " 60%|█████████████████████████████████████████████████▏                                | 12/20 [02:41<01:48, 13.61s/it]\u001b[A"
     ]
    },
    {
     "name": "stdout",
     "output_type": "stream",
     "text": [
      "test_loss: 0.27638 | test_acc: 90.66%\n",
      "Epoch: 12 ...\n",
      "train_loss: 0.20782 | train_acc: 92.47%\n"
     ]
    },
    {
     "name": "stderr",
     "output_type": "stream",
     "text": [
      "\n",
      " 65%|█████████████████████████████████████████████████████▎                            | 13/20 [02:55<01:35, 13.63s/it]\u001b[A"
     ]
    },
    {
     "name": "stdout",
     "output_type": "stream",
     "text": [
      "test_loss: 0.26844 | test_acc: 90.79%\n",
      "Epoch: 13 ...\n",
      "train_loss: 0.20541 | train_acc: 92.38%\n"
     ]
    },
    {
     "name": "stderr",
     "output_type": "stream",
     "text": [
      "\n",
      " 70%|█████████████████████████████████████████████████████████▍                        | 14/20 [03:08<01:21, 13.65s/it]\u001b[A"
     ]
    },
    {
     "name": "stdout",
     "output_type": "stream",
     "text": [
      "test_loss: 0.26757 | test_acc: 90.41%\n",
      "Epoch: 14 ...\n",
      "train_loss: 0.20476 | train_acc: 92.53%\n"
     ]
    },
    {
     "name": "stderr",
     "output_type": "stream",
     "text": [
      "\n",
      " 75%|█████████████████████████████████████████████████████████████▌                    | 15/20 [03:23<01:09, 13.95s/it]\u001b[A"
     ]
    },
    {
     "name": "stdout",
     "output_type": "stream",
     "text": [
      "test_loss: 0.27006 | test_acc: 90.74%\n",
      "Epoch: 15 ...\n",
      "train_loss: 0.20605 | train_acc: 92.43%\n"
     ]
    },
    {
     "name": "stderr",
     "output_type": "stream",
     "text": [
      "\n",
      " 80%|█████████████████████████████████████████████████████████████████▌                | 16/20 [03:36<00:54, 13.74s/it]\u001b[A"
     ]
    },
    {
     "name": "stdout",
     "output_type": "stream",
     "text": [
      "test_loss: 0.27092 | test_acc: 90.64%\n",
      "Epoch: 16 ...\n"
     ]
    }
   ],
   "source": [
    "from tqdm import tqdm\n",
    "import warnings\n",
    "warnings.filterwarnings(\"ignore\", category=FutureWarning)\n",
    "\n",
    "\n",
    "from timeit import default_timer as timer\n",
    "train_time_start_model =timer()\n",
    "indx = 5\n",
    "epochs = 20\n",
    "for i in tqdm(range(indx)):\n",
    "    for epoch in tqdm(range(epochs)):\n",
    "      print(f\"Epoch: {epoch} ...\")\n",
    "      train_model(model = CNN_model,\n",
    "                  data_loader = train_dataloader,\n",
    "                  loss_fn = loss_fn,\n",
    "                  optimizer = optimizer_CNN,\n",
    "                  accuracy_fn = accuracy_fn,\n",
    "                  device = device)\n",
    "      testing_model(model = CNN_model,\n",
    "                    data_loader = test_dataloader,\n",
    "                    loss_fn = loss_fn,\n",
    "                    accuracy_fn = accuracy_fn,\n",
    "                    device = device)\n",
    "        \n",
    "    # saving and loading model\n",
    "    MODEL_NAME = f\"model_group_{i+1}.pth\"\n",
    "    MODEL_SAVE_PATH = MODEL_PATH/MODEL_NAME\n",
    "    torch.save({\n",
    "        'model_state_dict': CNN_model.state_dict(),\n",
    "        'optimizer_state_dict': optimizer_CNN.state_dict(),\n",
    "    }, MODEL_SAVE_PATH)\n",
    "    # loading model\n",
    "    checkpoint = torch.load(MODEL_SAVE_PATH)\n",
    "    CNN_model.load_state_dict(checkpoint['model_state_dict'])\n",
    "    optimizer_CNN.load_state_dict(checkpoint['optimizer_state_dict'])\n",
    "train_time_end_model = timer()\n",
    "Train_time(start = train_time_start_model,\n",
    "         end = train_time_end_model,\n",
    "         device = device)\n"
   ]
  },
  {
   "cell_type": "markdown",
   "id": "918ea56f-6ab4-4955-887f-9e808b211afc",
   "metadata": {},
   "source": [
    "## Evaluating the models  "
   ]
  },
  {
   "cell_type": "code",
   "execution_count": null,
   "id": "64390d33-a20b-417f-8b2c-ead2c7b1b4e9",
   "metadata": {},
   "outputs": [],
   "source": [
    "linear_model_result = eval_model(model = Linear_model,\n",
    "          data_loader = test_dataloader,\n",
    "          loss = loss_fn,\n",
    "          accuracy_fn = accuracy_fn,\n",
    "          device = device),\n",
    "CNN_model_results = eval_model(model = CNN_model,\n",
    "          data_loader = test_dataloader,\n",
    "          loss = loss_fn,\n",
    "          accuracy_fn = accuracy_fn,\n",
    "          device = device)\n",
    "linear_model_result,CNN_model_results"
   ]
  },
  {
   "cell_type": "markdown",
   "id": "4a34dcaa-e8a6-4a43-b1eb-a94dc94ee9ea",
   "metadata": {},
   "source": [
    "## Results"
   ]
  },
  {
   "cell_type": "code",
   "execution_count": null,
   "id": "5be42959-3db6-4ca9-8b71-75cda134b9e4",
   "metadata": {},
   "outputs": [],
   "source": [
    "# Testing random testing\n",
    "def testing_function(model:torch.nn.Module,\n",
    "                    data:list,\n",
    "                    device: torch.device = device):\n",
    "    pred_probs = []\n",
    "    model.to(device)\n",
    "    with torch.inference_mode():\n",
    "        for sample in data:\n",
    "          sample = torch.unsqueeze(sample,dim=0).to(device)\n",
    "          pred_logit = model(sample)\n",
    "          pred_prob = torch.softmax(pred_logit.squeeze(),dim=0)\n",
    "          pred_probs.append(pred_prob.cpu())\n",
    "        return torch.stack(pred_probs)\n",
    "test_sample = []\n",
    "test_labels =[]\n",
    "for sample,label in random.sample(list(test_data),k=9):\n",
    "    test_sample.append(sample)\n",
    "    test_labels.append(label)\n",
    "\n",
    "# mkaing prediction\n",
    "test_pred = testing_function(model=CNN_model,\n",
    "                            data=test_sample)\n",
    "test_class = test_pred.argmax(dim=1)\n",
    "\n",
    "num = 3\n",
    "plt.figure(figsize=(3,3))\n",
    "plt.imshow(test_sample[num].squeeze())\n",
    "pred_label = train_data.classes[test_class[num]]\n",
    "true_label = train_data.classes[test_labels[num]]\n",
    "\n",
    "title_text = f\"Pred: {pred_label} | Truth: {true_label}\"\n",
    "\n",
    "# Set title color based on prediction accuracy\n",
    "if pred_label == true_label:\n",
    "    plt.title(title_text, fontsize=12, color=\"green\")  # Green for correct predictions\n",
    "else:\n",
    "    plt.title(title_text, fontsize=12, color=\"red\")    # Red for incorrect predictions\n",
    "\n",
    "# Hide axis for clarity\n",
    "# plt.axis('off')\n",
    "plt.show()"
   ]
  }
 ],
 "metadata": {
  "kernelspec": {
   "display_name": "Python 3 (ipykernel)",
   "language": "python",
   "name": "python3"
  },
  "language_info": {
   "codemirror_mode": {
    "name": "ipython",
    "version": 3
   },
   "file_extension": ".py",
   "mimetype": "text/x-python",
   "name": "python",
   "nbconvert_exporter": "python",
   "pygments_lexer": "ipython3",
   "version": "3.12.4"
  }
 },
 "nbformat": 4,
 "nbformat_minor": 5
}
